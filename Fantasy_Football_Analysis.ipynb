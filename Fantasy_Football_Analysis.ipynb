{
  "cells": [
    {
      "cell_type": "markdown",
      "metadata": {
        "id": "3ls44hh0s-M_"
      },
      "source": [
        "This dataset portrays an analysis between which NFL player has the most passing yards, rushing yards, rushing touchdowns, fumbles, and recieving touchdowns. The data analysis also portrays which age range of NFL players perform the best."
      ]
    },
    {
      "cell_type": "code",
      "execution_count": 1,
      "metadata": {
        "colab": {
          "base_uri": "https://localhost:8080/",
          "height": 610
        },
        "id": "3-UBSIbLs_Tx",
        "outputId": "8dc31dde-a90a-40d6-e65f-6893d98f8d8d"
      },
      "outputs": [
        {
          "name": "stdout",
          "output_type": "stream",
          "text": [
            "Requirement already satisfied: seaborn in /usr/local/lib/python3.10/dist-packages (0.12.2)\n",
            "Requirement already satisfied: numpy!=1.24.0,>=1.17 in /usr/local/lib/python3.10/dist-packages (from seaborn) (1.23.5)\n",
            "Requirement already satisfied: pandas>=0.25 in /usr/local/lib/python3.10/dist-packages (from seaborn) (1.5.3)\n",
            "Requirement already satisfied: matplotlib!=3.6.1,>=3.1 in /usr/local/lib/python3.10/dist-packages (from seaborn) (3.7.1)\n",
            "Requirement already satisfied: contourpy>=1.0.1 in /usr/local/lib/python3.10/dist-packages (from matplotlib!=3.6.1,>=3.1->seaborn) (1.1.0)\n",
            "Requirement already satisfied: cycler>=0.10 in /usr/local/lib/python3.10/dist-packages (from matplotlib!=3.6.1,>=3.1->seaborn) (0.11.0)\n",
            "Requirement already satisfied: fonttools>=4.22.0 in /usr/local/lib/python3.10/dist-packages (from matplotlib!=3.6.1,>=3.1->seaborn) (4.42.1)\n",
            "Requirement already satisfied: kiwisolver>=1.0.1 in /usr/local/lib/python3.10/dist-packages (from matplotlib!=3.6.1,>=3.1->seaborn) (1.4.5)\n",
            "Requirement already satisfied: packaging>=20.0 in /usr/local/lib/python3.10/dist-packages (from matplotlib!=3.6.1,>=3.1->seaborn) (23.1)\n",
            "Requirement already satisfied: pillow>=6.2.0 in /usr/local/lib/python3.10/dist-packages (from matplotlib!=3.6.1,>=3.1->seaborn) (9.4.0)\n",
            "Requirement already satisfied: pyparsing>=2.3.1 in /usr/local/lib/python3.10/dist-packages (from matplotlib!=3.6.1,>=3.1->seaborn) (3.1.1)\n",
            "Requirement already satisfied: python-dateutil>=2.7 in /usr/local/lib/python3.10/dist-packages (from matplotlib!=3.6.1,>=3.1->seaborn) (2.8.2)\n",
            "Requirement already satisfied: pytz>=2020.1 in /usr/local/lib/python3.10/dist-packages (from pandas>=0.25->seaborn) (2023.3.post1)\n",
            "Requirement already satisfied: six>=1.5 in /usr/local/lib/python3.10/dist-packages (from python-dateutil>=2.7->matplotlib!=3.6.1,>=3.1->seaborn) (1.16.0)\n"
          ]
        },
        {
          "data": {
            "text/html": [
              "\n",
              "  <div id=\"df-55d2b3e1-3eb8-4fd5-a318-82f332b4cbbf\" class=\"colab-df-container\">\n",
              "    <div>\n",
              "<style scoped>\n",
              "    .dataframe tbody tr th:only-of-type {\n",
              "        vertical-align: middle;\n",
              "    }\n",
              "\n",
              "    .dataframe tbody tr th {\n",
              "        vertical-align: top;\n",
              "    }\n",
              "\n",
              "    .dataframe thead th {\n",
              "        text-align: right;\n",
              "    }\n",
              "</style>\n",
              "<table border=\"1\" class=\"dataframe\">\n",
              "  <thead>\n",
              "    <tr style=\"text-align: right;\">\n",
              "      <th></th>\n",
              "      <th>Unnamed: 0</th>\n",
              "      <th>Player</th>\n",
              "      <th>Tm</th>\n",
              "      <th>Pos</th>\n",
              "      <th>Age</th>\n",
              "      <th>G</th>\n",
              "      <th>GS</th>\n",
              "      <th>Tgt</th>\n",
              "      <th>Rec</th>\n",
              "      <th>PassingYds</th>\n",
              "      <th>...</th>\n",
              "      <th>PassingAtt</th>\n",
              "      <th>RushingYds</th>\n",
              "      <th>RushingTD</th>\n",
              "      <th>RushingAtt</th>\n",
              "      <th>ReceivingYds</th>\n",
              "      <th>ReceivingTD</th>\n",
              "      <th>FantasyPoints</th>\n",
              "      <th>Int</th>\n",
              "      <th>Fumbles</th>\n",
              "      <th>FumblesLost</th>\n",
              "    </tr>\n",
              "  </thead>\n",
              "  <tbody>\n",
              "    <tr>\n",
              "      <th>0</th>\n",
              "      <td>0</td>\n",
              "      <td>Jonathan Taylor*+</td>\n",
              "      <td>IND</td>\n",
              "      <td>RB</td>\n",
              "      <td>22</td>\n",
              "      <td>17</td>\n",
              "      <td>17</td>\n",
              "      <td>51.0</td>\n",
              "      <td>40.0</td>\n",
              "      <td>0.0</td>\n",
              "      <td>...</td>\n",
              "      <td>0.0</td>\n",
              "      <td>1811.0</td>\n",
              "      <td>18.0</td>\n",
              "      <td>332.0</td>\n",
              "      <td>360.0</td>\n",
              "      <td>2.0</td>\n",
              "      <td>333.0</td>\n",
              "      <td>0.0</td>\n",
              "      <td>4.0</td>\n",
              "      <td>2.0</td>\n",
              "    </tr>\n",
              "    <tr>\n",
              "      <th>1</th>\n",
              "      <td>1</td>\n",
              "      <td>Cooper Kupp*+</td>\n",
              "      <td>LAR</td>\n",
              "      <td>WR</td>\n",
              "      <td>28</td>\n",
              "      <td>17</td>\n",
              "      <td>17</td>\n",
              "      <td>191.0</td>\n",
              "      <td>145.0</td>\n",
              "      <td>0.0</td>\n",
              "      <td>...</td>\n",
              "      <td>1.0</td>\n",
              "      <td>18.0</td>\n",
              "      <td>0.0</td>\n",
              "      <td>4.0</td>\n",
              "      <td>1947.0</td>\n",
              "      <td>16.0</td>\n",
              "      <td>295.0</td>\n",
              "      <td>0.0</td>\n",
              "      <td>0.0</td>\n",
              "      <td>0.0</td>\n",
              "    </tr>\n",
              "    <tr>\n",
              "      <th>2</th>\n",
              "      <td>2</td>\n",
              "      <td>Deebo Samuel*+</td>\n",
              "      <td>SFO</td>\n",
              "      <td>WR</td>\n",
              "      <td>25</td>\n",
              "      <td>16</td>\n",
              "      <td>15</td>\n",
              "      <td>121.0</td>\n",
              "      <td>77.0</td>\n",
              "      <td>24.0</td>\n",
              "      <td>...</td>\n",
              "      <td>2.0</td>\n",
              "      <td>365.0</td>\n",
              "      <td>8.0</td>\n",
              "      <td>59.0</td>\n",
              "      <td>1405.0</td>\n",
              "      <td>6.0</td>\n",
              "      <td>262.0</td>\n",
              "      <td>0.0</td>\n",
              "      <td>4.0</td>\n",
              "      <td>2.0</td>\n",
              "    </tr>\n",
              "    <tr>\n",
              "      <th>3</th>\n",
              "      <td>3</td>\n",
              "      <td>Josh Allen</td>\n",
              "      <td>BUF</td>\n",
              "      <td>QB</td>\n",
              "      <td>25</td>\n",
              "      <td>17</td>\n",
              "      <td>17</td>\n",
              "      <td>0.0</td>\n",
              "      <td>0.0</td>\n",
              "      <td>4407.0</td>\n",
              "      <td>...</td>\n",
              "      <td>646.0</td>\n",
              "      <td>763.0</td>\n",
              "      <td>6.0</td>\n",
              "      <td>122.0</td>\n",
              "      <td>0.0</td>\n",
              "      <td>0.0</td>\n",
              "      <td>403.0</td>\n",
              "      <td>15.0</td>\n",
              "      <td>8.0</td>\n",
              "      <td>3.0</td>\n",
              "    </tr>\n",
              "    <tr>\n",
              "      <th>4</th>\n",
              "      <td>4</td>\n",
              "      <td>Austin Ekeler</td>\n",
              "      <td>LAC</td>\n",
              "      <td>RB</td>\n",
              "      <td>26</td>\n",
              "      <td>16</td>\n",
              "      <td>16</td>\n",
              "      <td>94.0</td>\n",
              "      <td>70.0</td>\n",
              "      <td>0.0</td>\n",
              "      <td>...</td>\n",
              "      <td>0.0</td>\n",
              "      <td>911.0</td>\n",
              "      <td>12.0</td>\n",
              "      <td>206.0</td>\n",
              "      <td>647.0</td>\n",
              "      <td>8.0</td>\n",
              "      <td>274.0</td>\n",
              "      <td>0.0</td>\n",
              "      <td>4.0</td>\n",
              "      <td>3.0</td>\n",
              "    </tr>\n",
              "  </tbody>\n",
              "</table>\n",
              "<p>5 rows × 21 columns</p>\n",
              "</div>\n",
              "    <div class=\"colab-df-buttons\">\n",
              "\n",
              "  <div class=\"colab-df-container\">\n",
              "    <button class=\"colab-df-convert\" onclick=\"convertToInteractive('df-55d2b3e1-3eb8-4fd5-a318-82f332b4cbbf')\"\n",
              "            title=\"Convert this dataframe to an interactive table.\"\n",
              "            style=\"display:none;\">\n",
              "\n",
              "  <svg xmlns=\"http://www.w3.org/2000/svg\" height=\"24px\" viewBox=\"0 -960 960 960\">\n",
              "    <path d=\"M120-120v-720h720v720H120Zm60-500h600v-160H180v160Zm220 220h160v-160H400v160Zm0 220h160v-160H400v160ZM180-400h160v-160H180v160Zm440 0h160v-160H620v160ZM180-180h160v-160H180v160Zm440 0h160v-160H620v160Z\"/>\n",
              "  </svg>\n",
              "    </button>\n",
              "\n",
              "  <style>\n",
              "    .colab-df-container {\n",
              "      display:flex;\n",
              "      gap: 12px;\n",
              "    }\n",
              "\n",
              "    .colab-df-convert {\n",
              "      background-color: #E8F0FE;\n",
              "      border: none;\n",
              "      border-radius: 50%;\n",
              "      cursor: pointer;\n",
              "      display: none;\n",
              "      fill: #1967D2;\n",
              "      height: 32px;\n",
              "      padding: 0 0 0 0;\n",
              "      width: 32px;\n",
              "    }\n",
              "\n",
              "    .colab-df-convert:hover {\n",
              "      background-color: #E2EBFA;\n",
              "      box-shadow: 0px 1px 2px rgba(60, 64, 67, 0.3), 0px 1px 3px 1px rgba(60, 64, 67, 0.15);\n",
              "      fill: #174EA6;\n",
              "    }\n",
              "\n",
              "    .colab-df-buttons div {\n",
              "      margin-bottom: 4px;\n",
              "    }\n",
              "\n",
              "    [theme=dark] .colab-df-convert {\n",
              "      background-color: #3B4455;\n",
              "      fill: #D2E3FC;\n",
              "    }\n",
              "\n",
              "    [theme=dark] .colab-df-convert:hover {\n",
              "      background-color: #434B5C;\n",
              "      box-shadow: 0px 1px 3px 1px rgba(0, 0, 0, 0.15);\n",
              "      filter: drop-shadow(0px 1px 2px rgba(0, 0, 0, 0.3));\n",
              "      fill: #FFFFFF;\n",
              "    }\n",
              "  </style>\n",
              "\n",
              "    <script>\n",
              "      const buttonEl =\n",
              "        document.querySelector('#df-55d2b3e1-3eb8-4fd5-a318-82f332b4cbbf button.colab-df-convert');\n",
              "      buttonEl.style.display =\n",
              "        google.colab.kernel.accessAllowed ? 'block' : 'none';\n",
              "\n",
              "      async function convertToInteractive(key) {\n",
              "        const element = document.querySelector('#df-55d2b3e1-3eb8-4fd5-a318-82f332b4cbbf');\n",
              "        const dataTable =\n",
              "          await google.colab.kernel.invokeFunction('convertToInteractive',\n",
              "                                                    [key], {});\n",
              "        if (!dataTable) return;\n",
              "\n",
              "        const docLinkHtml = 'Like what you see? Visit the ' +\n",
              "          '<a target=\"_blank\" href=https://colab.research.google.com/notebooks/data_table.ipynb>data table notebook</a>'\n",
              "          + ' to learn more about interactive tables.';\n",
              "        element.innerHTML = '';\n",
              "        dataTable['output_type'] = 'display_data';\n",
              "        await google.colab.output.renderOutput(dataTable, element);\n",
              "        const docLink = document.createElement('div');\n",
              "        docLink.innerHTML = docLinkHtml;\n",
              "        element.appendChild(docLink);\n",
              "      }\n",
              "    </script>\n",
              "  </div>\n",
              "\n",
              "\n",
              "<div id=\"df-949bb6cc-eb4d-40fc-9adc-77e5bb1e7ef1\">\n",
              "  <button class=\"colab-df-quickchart\" onclick=\"quickchart('df-949bb6cc-eb4d-40fc-9adc-77e5bb1e7ef1')\"\n",
              "            title=\"Suggest charts.\"\n",
              "            style=\"display:none;\">\n",
              "\n",
              "<svg xmlns=\"http://www.w3.org/2000/svg\" height=\"24px\"viewBox=\"0 0 24 24\"\n",
              "     width=\"24px\">\n",
              "    <g>\n",
              "        <path d=\"M19 3H5c-1.1 0-2 .9-2 2v14c0 1.1.9 2 2 2h14c1.1 0 2-.9 2-2V5c0-1.1-.9-2-2-2zM9 17H7v-7h2v7zm4 0h-2V7h2v10zm4 0h-2v-4h2v4z\"/>\n",
              "    </g>\n",
              "</svg>\n",
              "  </button>\n",
              "\n",
              "<style>\n",
              "  .colab-df-quickchart {\n",
              "      --bg-color: #E8F0FE;\n",
              "      --fill-color: #1967D2;\n",
              "      --hover-bg-color: #E2EBFA;\n",
              "      --hover-fill-color: #174EA6;\n",
              "      --disabled-fill-color: #AAA;\n",
              "      --disabled-bg-color: #DDD;\n",
              "  }\n",
              "\n",
              "  [theme=dark] .colab-df-quickchart {\n",
              "      --bg-color: #3B4455;\n",
              "      --fill-color: #D2E3FC;\n",
              "      --hover-bg-color: #434B5C;\n",
              "      --hover-fill-color: #FFFFFF;\n",
              "      --disabled-bg-color: #3B4455;\n",
              "      --disabled-fill-color: #666;\n",
              "  }\n",
              "\n",
              "  .colab-df-quickchart {\n",
              "    background-color: var(--bg-color);\n",
              "    border: none;\n",
              "    border-radius: 50%;\n",
              "    cursor: pointer;\n",
              "    display: none;\n",
              "    fill: var(--fill-color);\n",
              "    height: 32px;\n",
              "    padding: 0;\n",
              "    width: 32px;\n",
              "  }\n",
              "\n",
              "  .colab-df-quickchart:hover {\n",
              "    background-color: var(--hover-bg-color);\n",
              "    box-shadow: 0 1px 2px rgba(60, 64, 67, 0.3), 0 1px 3px 1px rgba(60, 64, 67, 0.15);\n",
              "    fill: var(--button-hover-fill-color);\n",
              "  }\n",
              "\n",
              "  .colab-df-quickchart-complete:disabled,\n",
              "  .colab-df-quickchart-complete:disabled:hover {\n",
              "    background-color: var(--disabled-bg-color);\n",
              "    fill: var(--disabled-fill-color);\n",
              "    box-shadow: none;\n",
              "  }\n",
              "\n",
              "  .colab-df-spinner {\n",
              "    border: 2px solid var(--fill-color);\n",
              "    border-color: transparent;\n",
              "    border-bottom-color: var(--fill-color);\n",
              "    animation:\n",
              "      spin 1s steps(1) infinite;\n",
              "  }\n",
              "\n",
              "  @keyframes spin {\n",
              "    0% {\n",
              "      border-color: transparent;\n",
              "      border-bottom-color: var(--fill-color);\n",
              "      border-left-color: var(--fill-color);\n",
              "    }\n",
              "    20% {\n",
              "      border-color: transparent;\n",
              "      border-left-color: var(--fill-color);\n",
              "      border-top-color: var(--fill-color);\n",
              "    }\n",
              "    30% {\n",
              "      border-color: transparent;\n",
              "      border-left-color: var(--fill-color);\n",
              "      border-top-color: var(--fill-color);\n",
              "      border-right-color: var(--fill-color);\n",
              "    }\n",
              "    40% {\n",
              "      border-color: transparent;\n",
              "      border-right-color: var(--fill-color);\n",
              "      border-top-color: var(--fill-color);\n",
              "    }\n",
              "    60% {\n",
              "      border-color: transparent;\n",
              "      border-right-color: var(--fill-color);\n",
              "    }\n",
              "    80% {\n",
              "      border-color: transparent;\n",
              "      border-right-color: var(--fill-color);\n",
              "      border-bottom-color: var(--fill-color);\n",
              "    }\n",
              "    90% {\n",
              "      border-color: transparent;\n",
              "      border-bottom-color: var(--fill-color);\n",
              "    }\n",
              "  }\n",
              "</style>\n",
              "\n",
              "  <script>\n",
              "    async function quickchart(key) {\n",
              "      const quickchartButtonEl =\n",
              "        document.querySelector('#' + key + ' button');\n",
              "      quickchartButtonEl.disabled = true;  // To prevent multiple clicks.\n",
              "      quickchartButtonEl.classList.add('colab-df-spinner');\n",
              "      try {\n",
              "        const charts = await google.colab.kernel.invokeFunction(\n",
              "            'suggestCharts', [key], {});\n",
              "      } catch (error) {\n",
              "        console.error('Error during call to suggestCharts:', error);\n",
              "      }\n",
              "      quickchartButtonEl.classList.remove('colab-df-spinner');\n",
              "      quickchartButtonEl.classList.add('colab-df-quickchart-complete');\n",
              "    }\n",
              "    (() => {\n",
              "      let quickchartButtonEl =\n",
              "        document.querySelector('#df-949bb6cc-eb4d-40fc-9adc-77e5bb1e7ef1 button');\n",
              "      quickchartButtonEl.style.display =\n",
              "        google.colab.kernel.accessAllowed ? 'block' : 'none';\n",
              "    })();\n",
              "  </script>\n",
              "</div>\n",
              "    </div>\n",
              "  </div>\n"
            ],
            "text/plain": [
              "   Unnamed: 0             Player   Tm Pos  Age   G  GS    Tgt    Rec  \\\n",
              "0           0  Jonathan Taylor*+  IND  RB   22  17  17   51.0   40.0   \n",
              "1           1      Cooper Kupp*+  LAR  WR   28  17  17  191.0  145.0   \n",
              "2           2     Deebo Samuel*+  SFO  WR   25  16  15  121.0   77.0   \n",
              "3           3         Josh Allen  BUF  QB   25  17  17    0.0    0.0   \n",
              "4           4      Austin Ekeler  LAC  RB   26  16  16   94.0   70.0   \n",
              "\n",
              "   PassingYds  ...  PassingAtt  RushingYds  RushingTD  RushingAtt  \\\n",
              "0         0.0  ...         0.0      1811.0       18.0       332.0   \n",
              "1         0.0  ...         1.0        18.0        0.0         4.0   \n",
              "2        24.0  ...         2.0       365.0        8.0        59.0   \n",
              "3      4407.0  ...       646.0       763.0        6.0       122.0   \n",
              "4         0.0  ...         0.0       911.0       12.0       206.0   \n",
              "\n",
              "   ReceivingYds  ReceivingTD  FantasyPoints   Int  Fumbles  FumblesLost  \n",
              "0         360.0          2.0          333.0   0.0      4.0          2.0  \n",
              "1        1947.0         16.0          295.0   0.0      0.0          0.0  \n",
              "2        1405.0          6.0          262.0   0.0      4.0          2.0  \n",
              "3           0.0          0.0          403.0  15.0      8.0          3.0  \n",
              "4         647.0          8.0          274.0   0.0      4.0          3.0  \n",
              "\n",
              "[5 rows x 21 columns]"
            ]
          },
          "execution_count": 1,
          "metadata": {},
          "output_type": "execute_result"
        }
      ],
      "source": [
        "#importing code from https://github.com/bendominguez0111/fantasy-csv-data/blob/master/yearly/2021.csv\n",
        "!pip install seaborn --upgrade\n",
        "import pandas as pd\n",
        "import numpy as np\n",
        "import matplotlib.pyplot as plt\n",
        "import missingno as msno\n",
        "import seaborn as sns\n",
        "import os\n",
        "import matplotlib.offsetbox as AnnotationBox\n",
        "\n",
        "df = pd.read_csv(\"https://raw.githubusercontent.com/bendominguez0111/fantasy-csv-data/master/yearly/2021.csv\")\n",
        "df.head()"
      ]
    },
    {
      "cell_type": "code",
      "execution_count": 2,
      "metadata": {
        "colab": {
          "base_uri": "https://localhost:8080/"
        },
        "id": "KWWvZq4thtiz",
        "outputId": "8ce548ff-2e51-4618-8d84-188fee660bf7"
      },
      "outputs": [
        {
          "name": "stdout",
          "output_type": "stream",
          "text": [
            "2.12.0\n",
            "[PhysicalDevice(name='/physical_device:GPU:0', device_type='GPU')]\n"
          ]
        }
      ],
      "source": [
        "import tensorflow as tf\n",
        "\n",
        "\n",
        "print(tf.__version__)\n",
        "print(tf.config.list_physical_devices('GPU'))"
      ]
    },
    {
      "cell_type": "code",
      "execution_count": 3,
      "metadata": {
        "colab": {
          "base_uri": "https://localhost:8080/"
        },
        "id": "yQWrsKksvgim",
        "outputId": "31d10105-9db4-4f45-a016-2880d833c4f2"
      },
      "outputs": [
        {
          "data": {
            "text/plain": [
              "Unnamed: 0         int64\n",
              "Player            object\n",
              "Tm                object\n",
              "Pos               object\n",
              "Age                int64\n",
              "G                  int64\n",
              "GS                 int64\n",
              "Tgt              float64\n",
              "Rec              float64\n",
              "PassingYds       float64\n",
              "PassingTD        float64\n",
              "PassingAtt       float64\n",
              "RushingYds       float64\n",
              "RushingTD        float64\n",
              "RushingAtt       float64\n",
              "ReceivingYds     float64\n",
              "ReceivingTD      float64\n",
              "FantasyPoints    float64\n",
              "Int              float64\n",
              "Fumbles          float64\n",
              "FumblesLost      float64\n",
              "dtype: object"
            ]
          },
          "execution_count": 3,
          "metadata": {},
          "output_type": "execute_result"
        }
      ],
      "source": [
        "df.dtypes"
      ]
    },
    {
      "cell_type": "code",
      "execution_count": null,
      "metadata": {
        "colab": {
          "base_uri": "https://localhost:8080/"
        },
        "id": "BhuMPVo-wMUV",
        "outputId": "0b2696b2-da4f-4588-d547-fd6c5169db83"
      },
      "outputs": [
        {
          "data": {
            "text/plain": [
              "Unnamed: 0        0\n",
              "Player            0\n",
              "Tm                0\n",
              "Pos              75\n",
              "Age               0\n",
              "G                 0\n",
              "GS                0\n",
              "Tgt               1\n",
              "Rec               1\n",
              "PassingYds        1\n",
              "PassingTD         1\n",
              "PassingAtt        1\n",
              "RushingYds        1\n",
              "RushingTD         1\n",
              "RushingAtt        1\n",
              "ReceivingYds      1\n",
              "ReceivingTD       1\n",
              "FantasyPoints    90\n",
              "Int               1\n",
              "Fumbles           1\n",
              "FumblesLost       1\n",
              "dtype: int64"
            ]
          },
          "execution_count": 40,
          "metadata": {},
          "output_type": "execute_result"
        }
      ],
      "source": [
        "df.isna().sum()\n"
      ]
    },
    {
      "cell_type": "code",
      "execution_count": null,
      "metadata": {
        "colab": {
          "base_uri": "https://localhost:8080/"
        },
        "id": "MQsCVo_VoN7n",
        "outputId": "f59332f9-f78f-4553-aebb-69a796782159"
      },
      "outputs": [
        {
          "data": {
            "text/plain": [
              "178"
            ]
          },
          "execution_count": 41,
          "metadata": {},
          "output_type": "execute_result"
        }
      ],
      "source": [
        "df.isnull().sum().sum()\n",
        "#total of 178 null values"
      ]
    },
    {
      "cell_type": "code",
      "execution_count": null,
      "metadata": {
        "colab": {
          "base_uri": "https://localhost:8080/"
        },
        "id": "sNQewjlYoU8P",
        "outputId": "0f05252f-f285-4251-b775-ef9f9ad5bd38"
      },
      "outputs": [
        {
          "data": {
            "text/plain": [
              "Unnamed: 0       671\n",
              "Player           671\n",
              "Tm                34\n",
              "Pos                4\n",
              "Age               20\n",
              "G                 18\n",
              "GS                18\n",
              "Tgt              117\n",
              "Rec               94\n",
              "PassingYds        83\n",
              "PassingTD         31\n",
              "PassingAtt        69\n",
              "RushingYds       195\n",
              "RushingTD         15\n",
              "RushingAtt       113\n",
              "ReceivingYds     314\n",
              "ReceivingTD       16\n",
              "FantasyPoints    180\n",
              "Int               17\n",
              "Fumbles           15\n",
              "FumblesLost        7\n",
              "dtype: int64"
            ]
          },
          "execution_count": 42,
          "metadata": {},
          "output_type": "execute_result"
        }
      ],
      "source": [
        "df.nunique()\n"
      ]
    },
    {
      "cell_type": "code",
      "execution_count": null,
      "metadata": {
        "colab": {
          "base_uri": "https://localhost:8080/"
        },
        "id": "Zs6fXkWSpnt6",
        "outputId": "f5dd3bd1-15a4-44fd-efb9-d8133411d511"
      },
      "outputs": [
        {
          "data": {
            "text/plain": [
              "60.602409638554214"
            ]
          },
          "execution_count": 43,
          "metadata": {},
          "output_type": "execute_result"
        }
      ],
      "source": [
        "pts_mean = df['FantasyPoints'].mean()\n",
        "pts_mean\n",
        "#Each player has an avergae of approximately 61 fantasy points.\n"
      ]
    },
    {
      "cell_type": "code",
      "execution_count": null,
      "metadata": {
        "colab": {
          "base_uri": "https://localhost:8080/"
        },
        "id": "Cei7FPQ4qQit",
        "outputId": "5ec727fa-27af-4eda-c5cd-6a65c6e66375"
      },
      "outputs": [
        {
          "data": {
            "text/plain": [
              "26.2354694485842"
            ]
          },
          "execution_count": 44,
          "metadata": {},
          "output_type": "execute_result"
        }
      ],
      "source": [
        "#Average Player Age\n",
        "age_mean = df ['Age'].mean()\n",
        "age_mean\n",
        "#The average NFL Fantasy Football player was approximately 26 years old in the year 2021."
      ]
    },
    {
      "cell_type": "code",
      "execution_count": null,
      "metadata": {
        "colab": {
          "base_uri": "https://localhost:8080/"
        },
        "id": "pgz0XjH3qyQ9",
        "outputId": "6cd6f93c-73c7-4ce6-ae32-b6a77ef7aaba"
      },
      "outputs": [
        {
          "data": {
            "text/plain": [
              "198.0820895522388"
            ]
          },
          "execution_count": 45,
          "metadata": {},
          "output_type": "execute_result"
        }
      ],
      "source": [
        "#Average Passing Yards\n",
        "pass_mean = df['PassingYds'].mean()\n",
        "pass_mean\n",
        "#The average passing yards amongst all players is 198 yds."
      ]
    },
    {
      "cell_type": "code",
      "execution_count": null,
      "metadata": {
        "colab": {
          "base_uri": "https://localhost:8080/",
          "height": 338
        },
        "id": "8Zux8ZCjBm_L",
        "outputId": "c5ea44c6-b692-452e-bee7-2067f0d36eae"
      },
      "outputs": [
        {
          "data": {
            "text/html": [
              "\n",
              "  <div id=\"df-770a1591-c378-48f0-b0cb-290c0d1a5ea8\" class=\"colab-df-container\">\n",
              "    <div>\n",
              "<style scoped>\n",
              "    .dataframe tbody tr th:only-of-type {\n",
              "        vertical-align: middle;\n",
              "    }\n",
              "\n",
              "    .dataframe tbody tr th {\n",
              "        vertical-align: top;\n",
              "    }\n",
              "\n",
              "    .dataframe thead th {\n",
              "        text-align: right;\n",
              "    }\n",
              "</style>\n",
              "<table border=\"1\" class=\"dataframe\">\n",
              "  <thead>\n",
              "    <tr style=\"text-align: right;\">\n",
              "      <th></th>\n",
              "      <th>Unnamed: 0</th>\n",
              "      <th>Age</th>\n",
              "      <th>G</th>\n",
              "      <th>GS</th>\n",
              "      <th>Tgt</th>\n",
              "      <th>Rec</th>\n",
              "      <th>PassingYds</th>\n",
              "      <th>PassingTD</th>\n",
              "      <th>PassingAtt</th>\n",
              "      <th>RushingYds</th>\n",
              "      <th>RushingTD</th>\n",
              "      <th>RushingAtt</th>\n",
              "      <th>ReceivingYds</th>\n",
              "      <th>ReceivingTD</th>\n",
              "      <th>FantasyPoints</th>\n",
              "      <th>Int</th>\n",
              "      <th>Fumbles</th>\n",
              "      <th>FumblesLost</th>\n",
              "    </tr>\n",
              "  </thead>\n",
              "  <tbody>\n",
              "    <tr>\n",
              "      <th>count</th>\n",
              "      <td>671.000000</td>\n",
              "      <td>671.000000</td>\n",
              "      <td>671.000000</td>\n",
              "      <td>671.000000</td>\n",
              "      <td>670.000000</td>\n",
              "      <td>670.000000</td>\n",
              "      <td>670.000000</td>\n",
              "      <td>670.000000</td>\n",
              "      <td>670.000000</td>\n",
              "      <td>670.000000</td>\n",
              "      <td>670.000000</td>\n",
              "      <td>670.000000</td>\n",
              "      <td>670.000000</td>\n",
              "      <td>670.000000</td>\n",
              "      <td>581.000000</td>\n",
              "      <td>670.000000</td>\n",
              "      <td>670.000000</td>\n",
              "      <td>670.000000</td>\n",
              "    </tr>\n",
              "    <tr>\n",
              "      <th>mean</th>\n",
              "      <td>335.000000</td>\n",
              "      <td>26.235469</td>\n",
              "      <td>10.690015</td>\n",
              "      <td>4.842027</td>\n",
              "      <td>26.926866</td>\n",
              "      <td>18.073134</td>\n",
              "      <td>198.082090</td>\n",
              "      <td>1.253731</td>\n",
              "      <td>27.910448</td>\n",
              "      <td>93.477612</td>\n",
              "      <td>0.753731</td>\n",
              "      <td>21.613433</td>\n",
              "      <td>198.122388</td>\n",
              "      <td>1.243284</td>\n",
              "      <td>60.602410</td>\n",
              "      <td>0.656716</td>\n",
              "      <td>0.885075</td>\n",
              "      <td>0.379104</td>\n",
              "    </tr>\n",
              "    <tr>\n",
              "      <th>std</th>\n",
              "      <td>193.845299</td>\n",
              "      <td>3.250900</td>\n",
              "      <td>5.501902</td>\n",
              "      <td>5.601873</td>\n",
              "      <td>36.167758</td>\n",
              "      <td>24.388283</td>\n",
              "      <td>797.326876</td>\n",
              "      <td>5.435155</td>\n",
              "      <td>110.096633</td>\n",
              "      <td>222.047724</td>\n",
              "      <td>2.017993</td>\n",
              "      <td>50.036562</td>\n",
              "      <td>296.971711</td>\n",
              "      <td>2.237520</td>\n",
              "      <td>72.989054</td>\n",
              "      <td>2.566615</td>\n",
              "      <td>1.940116</td>\n",
              "      <td>0.874577</td>\n",
              "    </tr>\n",
              "    <tr>\n",
              "      <th>min</th>\n",
              "      <td>0.000000</td>\n",
              "      <td>21.000000</td>\n",
              "      <td>0.000000</td>\n",
              "      <td>0.000000</td>\n",
              "      <td>0.000000</td>\n",
              "      <td>0.000000</td>\n",
              "      <td>0.000000</td>\n",
              "      <td>0.000000</td>\n",
              "      <td>0.000000</td>\n",
              "      <td>-13.000000</td>\n",
              "      <td>0.000000</td>\n",
              "      <td>0.000000</td>\n",
              "      <td>-4.000000</td>\n",
              "      <td>0.000000</td>\n",
              "      <td>-4.000000</td>\n",
              "      <td>0.000000</td>\n",
              "      <td>0.000000</td>\n",
              "      <td>0.000000</td>\n",
              "    </tr>\n",
              "    <tr>\n",
              "      <th>25%</th>\n",
              "      <td>167.500000</td>\n",
              "      <td>24.000000</td>\n",
              "      <td>6.000000</td>\n",
              "      <td>0.000000</td>\n",
              "      <td>1.000000</td>\n",
              "      <td>0.000000</td>\n",
              "      <td>0.000000</td>\n",
              "      <td>0.000000</td>\n",
              "      <td>0.000000</td>\n",
              "      <td>0.000000</td>\n",
              "      <td>0.000000</td>\n",
              "      <td>0.000000</td>\n",
              "      <td>0.000000</td>\n",
              "      <td>0.000000</td>\n",
              "      <td>8.000000</td>\n",
              "      <td>0.000000</td>\n",
              "      <td>0.000000</td>\n",
              "      <td>0.000000</td>\n",
              "    </tr>\n",
              "    <tr>\n",
              "      <th>50%</th>\n",
              "      <td>335.000000</td>\n",
              "      <td>26.000000</td>\n",
              "      <td>12.000000</td>\n",
              "      <td>2.000000</td>\n",
              "      <td>10.000000</td>\n",
              "      <td>6.000000</td>\n",
              "      <td>0.000000</td>\n",
              "      <td>0.000000</td>\n",
              "      <td>0.000000</td>\n",
              "      <td>0.000000</td>\n",
              "      <td>0.000000</td>\n",
              "      <td>1.000000</td>\n",
              "      <td>52.000000</td>\n",
              "      <td>0.000000</td>\n",
              "      <td>35.000000</td>\n",
              "      <td>0.000000</td>\n",
              "      <td>0.000000</td>\n",
              "      <td>0.000000</td>\n",
              "    </tr>\n",
              "    <tr>\n",
              "      <th>75%</th>\n",
              "      <td>502.500000</td>\n",
              "      <td>28.000000</td>\n",
              "      <td>16.000000</td>\n",
              "      <td>9.000000</td>\n",
              "      <td>41.750000</td>\n",
              "      <td>28.000000</td>\n",
              "      <td>0.000000</td>\n",
              "      <td>0.000000</td>\n",
              "      <td>0.000000</td>\n",
              "      <td>46.750000</td>\n",
              "      <td>0.000000</td>\n",
              "      <td>10.000000</td>\n",
              "      <td>276.500000</td>\n",
              "      <td>2.000000</td>\n",
              "      <td>86.000000</td>\n",
              "      <td>0.000000</td>\n",
              "      <td>1.000000</td>\n",
              "      <td>0.000000</td>\n",
              "    </tr>\n",
              "    <tr>\n",
              "      <th>max</th>\n",
              "      <td>670.000000</td>\n",
              "      <td>44.000000</td>\n",
              "      <td>17.000000</td>\n",
              "      <td>17.000000</td>\n",
              "      <td>191.000000</td>\n",
              "      <td>145.000000</td>\n",
              "      <td>5316.000000</td>\n",
              "      <td>43.000000</td>\n",
              "      <td>719.000000</td>\n",
              "      <td>1811.000000</td>\n",
              "      <td>18.000000</td>\n",
              "      <td>332.000000</td>\n",
              "      <td>1947.000000</td>\n",
              "      <td>16.000000</td>\n",
              "      <td>403.000000</td>\n",
              "      <td>17.000000</td>\n",
              "      <td>14.000000</td>\n",
              "      <td>6.000000</td>\n",
              "    </tr>\n",
              "  </tbody>\n",
              "</table>\n",
              "</div>\n",
              "    <div class=\"colab-df-buttons\">\n",
              "\n",
              "  <div class=\"colab-df-container\">\n",
              "    <button class=\"colab-df-convert\" onclick=\"convertToInteractive('df-770a1591-c378-48f0-b0cb-290c0d1a5ea8')\"\n",
              "            title=\"Convert this dataframe to an interactive table.\"\n",
              "            style=\"display:none;\">\n",
              "\n",
              "  <svg xmlns=\"http://www.w3.org/2000/svg\" height=\"24px\" viewBox=\"0 -960 960 960\">\n",
              "    <path d=\"M120-120v-720h720v720H120Zm60-500h600v-160H180v160Zm220 220h160v-160H400v160Zm0 220h160v-160H400v160ZM180-400h160v-160H180v160Zm440 0h160v-160H620v160ZM180-180h160v-160H180v160Zm440 0h160v-160H620v160Z\"/>\n",
              "  </svg>\n",
              "    </button>\n",
              "\n",
              "  <style>\n",
              "    .colab-df-container {\n",
              "      display:flex;\n",
              "      gap: 12px;\n",
              "    }\n",
              "\n",
              "    .colab-df-convert {\n",
              "      background-color: #E8F0FE;\n",
              "      border: none;\n",
              "      border-radius: 50%;\n",
              "      cursor: pointer;\n",
              "      display: none;\n",
              "      fill: #1967D2;\n",
              "      height: 32px;\n",
              "      padding: 0 0 0 0;\n",
              "      width: 32px;\n",
              "    }\n",
              "\n",
              "    .colab-df-convert:hover {\n",
              "      background-color: #E2EBFA;\n",
              "      box-shadow: 0px 1px 2px rgba(60, 64, 67, 0.3), 0px 1px 3px 1px rgba(60, 64, 67, 0.15);\n",
              "      fill: #174EA6;\n",
              "    }\n",
              "\n",
              "    .colab-df-buttons div {\n",
              "      margin-bottom: 4px;\n",
              "    }\n",
              "\n",
              "    [theme=dark] .colab-df-convert {\n",
              "      background-color: #3B4455;\n",
              "      fill: #D2E3FC;\n",
              "    }\n",
              "\n",
              "    [theme=dark] .colab-df-convert:hover {\n",
              "      background-color: #434B5C;\n",
              "      box-shadow: 0px 1px 3px 1px rgba(0, 0, 0, 0.15);\n",
              "      filter: drop-shadow(0px 1px 2px rgba(0, 0, 0, 0.3));\n",
              "      fill: #FFFFFF;\n",
              "    }\n",
              "  </style>\n",
              "\n",
              "    <script>\n",
              "      const buttonEl =\n",
              "        document.querySelector('#df-770a1591-c378-48f0-b0cb-290c0d1a5ea8 button.colab-df-convert');\n",
              "      buttonEl.style.display =\n",
              "        google.colab.kernel.accessAllowed ? 'block' : 'none';\n",
              "\n",
              "      async function convertToInteractive(key) {\n",
              "        const element = document.querySelector('#df-770a1591-c378-48f0-b0cb-290c0d1a5ea8');\n",
              "        const dataTable =\n",
              "          await google.colab.kernel.invokeFunction('convertToInteractive',\n",
              "                                                    [key], {});\n",
              "        if (!dataTable) return;\n",
              "\n",
              "        const docLinkHtml = 'Like what you see? Visit the ' +\n",
              "          '<a target=\"_blank\" href=https://colab.research.google.com/notebooks/data_table.ipynb>data table notebook</a>'\n",
              "          + ' to learn more about interactive tables.';\n",
              "        element.innerHTML = '';\n",
              "        dataTable['output_type'] = 'display_data';\n",
              "        await google.colab.output.renderOutput(dataTable, element);\n",
              "        const docLink = document.createElement('div');\n",
              "        docLink.innerHTML = docLinkHtml;\n",
              "        element.appendChild(docLink);\n",
              "      }\n",
              "    </script>\n",
              "  </div>\n",
              "\n",
              "\n",
              "<div id=\"df-5db24eb9-f975-400d-8ba0-2309fbabd25f\">\n",
              "  <button class=\"colab-df-quickchart\" onclick=\"quickchart('df-5db24eb9-f975-400d-8ba0-2309fbabd25f')\"\n",
              "            title=\"Suggest charts.\"\n",
              "            style=\"display:none;\">\n",
              "\n",
              "<svg xmlns=\"http://www.w3.org/2000/svg\" height=\"24px\"viewBox=\"0 0 24 24\"\n",
              "     width=\"24px\">\n",
              "    <g>\n",
              "        <path d=\"M19 3H5c-1.1 0-2 .9-2 2v14c0 1.1.9 2 2 2h14c1.1 0 2-.9 2-2V5c0-1.1-.9-2-2-2zM9 17H7v-7h2v7zm4 0h-2V7h2v10zm4 0h-2v-4h2v4z\"/>\n",
              "    </g>\n",
              "</svg>\n",
              "  </button>\n",
              "\n",
              "<style>\n",
              "  .colab-df-quickchart {\n",
              "      --bg-color: #E8F0FE;\n",
              "      --fill-color: #1967D2;\n",
              "      --hover-bg-color: #E2EBFA;\n",
              "      --hover-fill-color: #174EA6;\n",
              "      --disabled-fill-color: #AAA;\n",
              "      --disabled-bg-color: #DDD;\n",
              "  }\n",
              "\n",
              "  [theme=dark] .colab-df-quickchart {\n",
              "      --bg-color: #3B4455;\n",
              "      --fill-color: #D2E3FC;\n",
              "      --hover-bg-color: #434B5C;\n",
              "      --hover-fill-color: #FFFFFF;\n",
              "      --disabled-bg-color: #3B4455;\n",
              "      --disabled-fill-color: #666;\n",
              "  }\n",
              "\n",
              "  .colab-df-quickchart {\n",
              "    background-color: var(--bg-color);\n",
              "    border: none;\n",
              "    border-radius: 50%;\n",
              "    cursor: pointer;\n",
              "    display: none;\n",
              "    fill: var(--fill-color);\n",
              "    height: 32px;\n",
              "    padding: 0;\n",
              "    width: 32px;\n",
              "  }\n",
              "\n",
              "  .colab-df-quickchart:hover {\n",
              "    background-color: var(--hover-bg-color);\n",
              "    box-shadow: 0 1px 2px rgba(60, 64, 67, 0.3), 0 1px 3px 1px rgba(60, 64, 67, 0.15);\n",
              "    fill: var(--button-hover-fill-color);\n",
              "  }\n",
              "\n",
              "  .colab-df-quickchart-complete:disabled,\n",
              "  .colab-df-quickchart-complete:disabled:hover {\n",
              "    background-color: var(--disabled-bg-color);\n",
              "    fill: var(--disabled-fill-color);\n",
              "    box-shadow: none;\n",
              "  }\n",
              "\n",
              "  .colab-df-spinner {\n",
              "    border: 2px solid var(--fill-color);\n",
              "    border-color: transparent;\n",
              "    border-bottom-color: var(--fill-color);\n",
              "    animation:\n",
              "      spin 1s steps(1) infinite;\n",
              "  }\n",
              "\n",
              "  @keyframes spin {\n",
              "    0% {\n",
              "      border-color: transparent;\n",
              "      border-bottom-color: var(--fill-color);\n",
              "      border-left-color: var(--fill-color);\n",
              "    }\n",
              "    20% {\n",
              "      border-color: transparent;\n",
              "      border-left-color: var(--fill-color);\n",
              "      border-top-color: var(--fill-color);\n",
              "    }\n",
              "    30% {\n",
              "      border-color: transparent;\n",
              "      border-left-color: var(--fill-color);\n",
              "      border-top-color: var(--fill-color);\n",
              "      border-right-color: var(--fill-color);\n",
              "    }\n",
              "    40% {\n",
              "      border-color: transparent;\n",
              "      border-right-color: var(--fill-color);\n",
              "      border-top-color: var(--fill-color);\n",
              "    }\n",
              "    60% {\n",
              "      border-color: transparent;\n",
              "      border-right-color: var(--fill-color);\n",
              "    }\n",
              "    80% {\n",
              "      border-color: transparent;\n",
              "      border-right-color: var(--fill-color);\n",
              "      border-bottom-color: var(--fill-color);\n",
              "    }\n",
              "    90% {\n",
              "      border-color: transparent;\n",
              "      border-bottom-color: var(--fill-color);\n",
              "    }\n",
              "  }\n",
              "</style>\n",
              "\n",
              "  <script>\n",
              "    async function quickchart(key) {\n",
              "      const quickchartButtonEl =\n",
              "        document.querySelector('#' + key + ' button');\n",
              "      quickchartButtonEl.disabled = true;  // To prevent multiple clicks.\n",
              "      quickchartButtonEl.classList.add('colab-df-spinner');\n",
              "      try {\n",
              "        const charts = await google.colab.kernel.invokeFunction(\n",
              "            'suggestCharts', [key], {});\n",
              "      } catch (error) {\n",
              "        console.error('Error during call to suggestCharts:', error);\n",
              "      }\n",
              "      quickchartButtonEl.classList.remove('colab-df-spinner');\n",
              "      quickchartButtonEl.classList.add('colab-df-quickchart-complete');\n",
              "    }\n",
              "    (() => {\n",
              "      let quickchartButtonEl =\n",
              "        document.querySelector('#df-5db24eb9-f975-400d-8ba0-2309fbabd25f button');\n",
              "      quickchartButtonEl.style.display =\n",
              "        google.colab.kernel.accessAllowed ? 'block' : 'none';\n",
              "    })();\n",
              "  </script>\n",
              "</div>\n",
              "    </div>\n",
              "  </div>\n"
            ],
            "text/plain": [
              "       Unnamed: 0         Age           G          GS         Tgt         Rec  \\\n",
              "count  671.000000  671.000000  671.000000  671.000000  670.000000  670.000000   \n",
              "mean   335.000000   26.235469   10.690015    4.842027   26.926866   18.073134   \n",
              "std    193.845299    3.250900    5.501902    5.601873   36.167758   24.388283   \n",
              "min      0.000000   21.000000    0.000000    0.000000    0.000000    0.000000   \n",
              "25%    167.500000   24.000000    6.000000    0.000000    1.000000    0.000000   \n",
              "50%    335.000000   26.000000   12.000000    2.000000   10.000000    6.000000   \n",
              "75%    502.500000   28.000000   16.000000    9.000000   41.750000   28.000000   \n",
              "max    670.000000   44.000000   17.000000   17.000000  191.000000  145.000000   \n",
              "\n",
              "        PassingYds   PassingTD  PassingAtt   RushingYds   RushingTD  \\\n",
              "count   670.000000  670.000000  670.000000   670.000000  670.000000   \n",
              "mean    198.082090    1.253731   27.910448    93.477612    0.753731   \n",
              "std     797.326876    5.435155  110.096633   222.047724    2.017993   \n",
              "min       0.000000    0.000000    0.000000   -13.000000    0.000000   \n",
              "25%       0.000000    0.000000    0.000000     0.000000    0.000000   \n",
              "50%       0.000000    0.000000    0.000000     0.000000    0.000000   \n",
              "75%       0.000000    0.000000    0.000000    46.750000    0.000000   \n",
              "max    5316.000000   43.000000  719.000000  1811.000000   18.000000   \n",
              "\n",
              "       RushingAtt  ReceivingYds  ReceivingTD  FantasyPoints         Int  \\\n",
              "count  670.000000    670.000000   670.000000     581.000000  670.000000   \n",
              "mean    21.613433    198.122388     1.243284      60.602410    0.656716   \n",
              "std     50.036562    296.971711     2.237520      72.989054    2.566615   \n",
              "min      0.000000     -4.000000     0.000000      -4.000000    0.000000   \n",
              "25%      0.000000      0.000000     0.000000       8.000000    0.000000   \n",
              "50%      1.000000     52.000000     0.000000      35.000000    0.000000   \n",
              "75%     10.000000    276.500000     2.000000      86.000000    0.000000   \n",
              "max    332.000000   1947.000000    16.000000     403.000000   17.000000   \n",
              "\n",
              "          Fumbles  FumblesLost  \n",
              "count  670.000000   670.000000  \n",
              "mean     0.885075     0.379104  \n",
              "std      1.940116     0.874577  \n",
              "min      0.000000     0.000000  \n",
              "25%      0.000000     0.000000  \n",
              "50%      0.000000     0.000000  \n",
              "75%      1.000000     0.000000  \n",
              "max     14.000000     6.000000  "
            ]
          },
          "execution_count": 46,
          "metadata": {},
          "output_type": "execute_result"
        }
      ],
      "source": [
        "df.describe()"
      ]
    },
    {
      "cell_type": "code",
      "execution_count": null,
      "metadata": {
        "colab": {
          "base_uri": "https://localhost:8080/"
        },
        "id": "M91PQpb2LZz1",
        "outputId": "3307a274-1fb3-4e8e-d41f-a64291fcbba7"
      },
      "outputs": [
        {
          "name": "stdout",
          "output_type": "stream",
          "text": [
            "The player with the most passing yards is Tom Brady* with 5316.0 yards.\n"
          ]
        }
      ],
      "source": [
        "player_passing_yards = df.groupby('Player')['PassingYds'].sum()\n",
        "\n",
        "# Find the player with the most passing yards\n",
        "player_with_most_passing_yards = player_passing_yards.idxmax()\n",
        "most_passing_yards = player_passing_yards.max()\n",
        "print(f\"The player with the most passing yards is {player_with_most_passing_yards} with {most_passing_yards} yards.\")\n"
      ]
    },
    {
      "cell_type": "code",
      "execution_count": null,
      "metadata": {
        "colab": {
          "base_uri": "https://localhost:8080/"
        },
        "id": "yvsJQF1SL5KC",
        "outputId": "4f971faf-6b6a-4d2e-cd93-671d86d21d1a"
      },
      "outputs": [
        {
          "name": "stdout",
          "output_type": "stream",
          "text": [
            "The player with the least passing yards is A.J. Brown with 0.0 yards.\n"
          ]
        }
      ],
      "source": [
        "#Find the player with the least passing yads\n",
        "player_passing_yards = df.groupby('Player')['PassingYds'].sum()\n",
        "\n",
        "\n",
        "player_with_least_passing_yards = player_passing_yards.idxmin()\n",
        "least_passing_yards = player_passing_yards.min()\n",
        "\n",
        "print(f\"The player with the least passing yards is {player_with_least_passing_yards} with {least_passing_yards} yards.\")"
      ]
    },
    {
      "cell_type": "code",
      "execution_count": null,
      "metadata": {
        "colab": {
          "base_uri": "https://localhost:8080/"
        },
        "id": "BMooScfuM4I7",
        "outputId": "23f085b7-6ad2-4017-f5f6-5a4677d2104b"
      },
      "outputs": [
        {
          "name": "stdout",
          "output_type": "stream",
          "text": [
            "The player with the most rushing yards is Jonathan Taylor*+ with 1811.0.\n"
          ]
        }
      ],
      "source": [
        "#Find the player with the most rushing yards\n",
        "player_rushing_yards = df.groupby('Player')['RushingYds'].sum()\n",
        "\n",
        "player_with_most_rushingyds = player_rushing_yards.idxmax()\n",
        "most_rushingyds = player_rushing_yards.max()\n",
        "print(f\"The player with the most rushing yards is {player_with_most_rushingyds} with {most_rushingyds}.\")\n"
      ]
    },
    {
      "cell_type": "code",
      "execution_count": null,
      "metadata": {
        "colab": {
          "base_uri": "https://localhost:8080/"
        },
        "id": "rDvPh7RDRDAj",
        "outputId": "146251ec-e517-4565-f480-73f2af017ec6"
      },
      "outputs": [
        {
          "name": "stdout",
          "output_type": "stream",
          "text": [
            "The player with the least rushing yards is Darius Slayton with -13.0.\n"
          ]
        }
      ],
      "source": [
        "#Player with the least rushing yards\n",
        "player_rushing_yards = df.groupby('Player')['RushingYds'].sum()\n",
        "\n",
        "player_with_least_rushingyds = player_rushing_yards.idxmin()\n",
        "least_rushingyds = player_rushing_yards.min()\n",
        "print(f\"The player with the least rushing yards is {player_with_least_rushingyds} with {least_rushingyds}.\")"
      ]
    },
    {
      "cell_type": "code",
      "execution_count": null,
      "metadata": {
        "colab": {
          "base_uri": "https://localhost:8080/"
        },
        "id": "4XFSU7aURUI1",
        "outputId": "f4f15580-0840-4ad2-caf9-a00afe336d5f"
      },
      "outputs": [
        {
          "name": "stdout",
          "output_type": "stream",
          "text": [
            "The player with the most rushing touchdowns is Jonathan Taylor*+ with 18.0.\n"
          ]
        }
      ],
      "source": [
        "#Player with the most rushing touch downs\n",
        "player_rushing_td = df.groupby('Player')['RushingTD'].sum()\n",
        "player_with_most_rushingtd = player_rushing_td.idxmax()\n",
        "most_rushingtd = player_rushing_td.max()\n",
        "print(f\"The player with the most rushing touchdowns is {player_with_most_rushingtd} with {most_rushingtd}.\")\n",
        "\n",
        "\n"
      ]
    },
    {
      "cell_type": "code",
      "execution_count": null,
      "metadata": {
        "colab": {
          "base_uri": "https://localhost:8080/"
        },
        "id": "h3u1oA2LS1OT",
        "outputId": "a6a0c326-6652-4ead-9a72-c314fe25f347"
      },
      "outputs": [
        {
          "name": "stdout",
          "output_type": "stream",
          "text": [
            "The player with the most receiving touchdowns is Cooper Kupp*+ with 16.0.\n"
          ]
        }
      ],
      "source": [
        "#Player with the most receiving touchdowns\n",
        "player_receiving_td = df.groupby('Player')['ReceivingTD'].sum()\n",
        "player_with_most_receivingtd = player_receiving_td.idxmax()\n",
        "most_receivingtd = player_receiving_td.max()\n",
        "print(f\"The player with the most receiving touchdowns is {player_with_most_receivingtd} with {most_receivingtd}.\")\n",
        "\n"
      ]
    },
    {
      "cell_type": "code",
      "execution_count": null,
      "metadata": {
        "colab": {
          "base_uri": "https://localhost:8080/"
        },
        "id": "6vntd_OAT_YP",
        "outputId": "466bcd95-8500-40e5-a9d0-ae413767f245"
      },
      "outputs": [
        {
          "name": "stdout",
          "output_type": "stream",
          "text": [
            "The player with the most receiving yards is Cooper Kupp*+ with 1947.0.\n"
          ]
        }
      ],
      "source": [
        "#Player with most receiving yards\n",
        "\n",
        "player_receiving_yd = df.groupby('Player')['ReceivingYds'].sum()\n",
        "player_with_most_receivingyd = player_receiving_yd.idxmax()\n",
        "most_receivingyd = player_receiving_yd.max()\n",
        "print(f\"The player with the most receiving yards is {player_with_most_receivingyd} with {most_receivingyd}.\")"
      ]
    },
    {
      "cell_type": "code",
      "execution_count": null,
      "metadata": {
        "colab": {
          "base_uri": "https://localhost:8080/"
        },
        "id": "bsMwjdi6VINL",
        "outputId": "047301f1-0448-4bc8-c6e4-488eddefc8fe"
      },
      "outputs": [
        {
          "name": "stdout",
          "output_type": "stream",
          "text": [
            "The player with the most fumbles is Dak Prescott with 14.0.\n"
          ]
        }
      ],
      "source": [
        "#Player with msot fumbles\n",
        "\n",
        "player_fumbles = df.groupby ('Player')['Fumbles'].sum()\n",
        "player_with_most_fumbles= player_fumbles.idxmax()\n",
        "most_fumbles = player_fumbles.max()\n",
        "print(f\"The player with the most fumbles is {player_with_most_fumbles} with {most_fumbles}.\")"
      ]
    },
    {
      "cell_type": "code",
      "execution_count": 5,
      "metadata": {
        "colab": {
          "base_uri": "https://localhost:8080/"
        },
        "id": "A1p-6UGmWgCT",
        "outputId": "c4cf0fee-5d5d-4676-a981-a097db0ddb54"
      },
      "outputs": [
        {
          "name": "stdout",
          "output_type": "stream",
          "text": [
            "The player with the least fumbles is A.J. Brown with 0.0.\n"
          ]
        }
      ],
      "source": [
        "#Player with the least fumbles\n",
        "\n",
        "player_fumbles = df.groupby ('Player')['Fumbles'].sum()\n",
        "player_with_least_fumbles= player_fumbles.idxmin()\n",
        "least_fumbles = player_fumbles.min()\n",
        "print(f\"The player with the least fumbles is {player_with_least_fumbles} with {least_fumbles}.\")"
      ]
    },
    {
      "cell_type": "code",
      "execution_count": 9,
      "metadata": {
        "colab": {
          "base_uri": "https://localhost:8080/"
        },
        "id": "3171iVUKW8QN",
        "outputId": "ee9497b7-1551-4a32-8440-9dfc2708e9d4"
      },
      "outputs": [
        {
          "name": "stdout",
          "output_type": "stream",
          "text": [
            "The player with the most fantasy points is Josh Allen with a total of 403.0.\n"
          ]
        }
      ],
      "source": [
        "#Player with most fantasy points\n",
        "\n",
        "player_fantasypts = df.groupby ('Player')['FantasyPoints'].sum()\n",
        "player_with_most_fantasypts = player_fantasypts.idxmax()\n",
        "most_fantasypts = player_fantasypts.max()\n",
        "print(f\"The player with the most fantasy points is {player_with_most_fantasypts} with a total of {most_fantasypts}.\")\n"
      ]
    },
    {
      "cell_type": "code",
      "execution_count": 11,
      "metadata": {
        "colab": {
          "base_uri": "https://localhost:8080/"
        },
        "id": "v0SzzPufW-XT",
        "outputId": "78fe5c16-404f-42fd-f454-6400fec0c71a"
      },
      "outputs": [
        {
          "name": "stdout",
          "output_type": "stream",
          "text": [
            "The player with the least fantasy points is Diontae Spencer with a total of -4.0.\n"
          ]
        }
      ],
      "source": [
        "#Player with the least fantasy points\n",
        "\n",
        "player_fantasypts = df.groupby ('Player')['FantasyPoints'].sum()\n",
        "player_with_least_fantasypts = player_fantasypts.idxmin()\n",
        "least_fantasypts = player_fantasypts.min()\n",
        "print(f\"The player with the least fantasy points is {player_with_least_fantasypts} with a total of {least_fantasypts}.\")"
      ]
    },
    {
      "cell_type": "code",
      "execution_count": 21,
      "metadata": {
        "colab": {
          "base_uri": "https://localhost:8080/"
        },
        "id": "NdAH0jTJd74M",
        "outputId": "cf04b665-b675-447e-e532-4d1206eebee8"
      },
      "outputs": [
        {
          "name": "stdout",
          "output_type": "stream",
          "text": [
            "             Player                    Player Maximum\n",
            "0         Tom Brady    Most Passing Yards: 5316.0 yds\n",
            "1  Johnathon Taylor    Most Rushing Yards: 1811.0 yds\n",
            "2  Johnathon Taylor     Most Rushing Touchdowns: 18.0\n",
            "3       Cooper Kupp   Most Receiving Touchdowns: 16.0\n",
            "4       Cooper Kupp  Most Receiving Yards: 1947.0 yds\n",
            "5      Dak Prescott                Most Fumbles: 14.0\n",
            "6        Josh Allen    Most Fantasy Points: 403.0 pts\n"
          ]
        }
      ],
      "source": [
        "#printing a table\n",
        "data = {\n",
        "    'Player': ['Tom Brady', 'Johnathon Taylor', 'Johnathon Taylor', 'Cooper Kupp', 'Cooper Kupp','Dak Prescott', 'Josh Allen'],\n",
        "\n",
        "    'Player Maximum': ['Most Passing Yards: 5316.0 yds', 'Most Rushing Yards: 1811.0 yds', 'Most Rushing Touchdowns: 18.0', 'Most Receiving Touchdowns: 16.0', 'Most Receiving Yards: 1947.0 yds', 'Most Fumbles: 14.0', 'Most Fantasy Points: 403.0 pts']\n",
        "}\n",
        "\n",
        "\n",
        "df = pd.DataFrame(data)\n",
        "\n",
        "\n",
        "print(df)"
      ]
    },
    {
      "cell_type": "markdown",
      "metadata": {
        "id": "dbjE6aAZcTIZ"
      },
      "source": [
        "\n",
        " All in all, according to the data Tom Brady has the most amount of passing yards with a total of 5316.0 yards. On the other hand, A.J. Brown has the least amount of passing yards with a total of 0.0 yards, and also has the least amount of fumbles with a total of 0.0 fumbles. The player with the most rushing yards and rushing touchdowns is Johnathon Taylor with a total of 1811 rushing yards and 18.0 rushing touchdowns. The player with the most receiving yards and receiving touchdowns is Cooper Kupp with a total of 1947.0 receiving yards and 16.0 receiving touchdowns. Dak Prescott is found to have the most amount of fumbles with 14 fumbles. Finally, Josh Allen has the most amount of fantasy points with a total of 403.0 points.\n",
        "\n",
        "\n",
        "\n",
        "\n",
        "\n",
        "\n",
        "\n",
        "\n",
        "\n",
        "\n",
        "\n",
        "\n",
        "\n",
        "\n",
        "\n",
        "\n",
        "\n"
      ]
    }
  ],
  "metadata": {
    "accelerator": "GPU",
    "colab": {
      "gpuType": "T4",
      "provenance": []
    },
    "kernelspec": {
      "display_name": "Python 3",
      "name": "python3"
    },
    "language_info": {
      "name": "python"
    }
  },
  "nbformat": 4,
  "nbformat_minor": 0
}
